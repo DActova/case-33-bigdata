{
 "cells": [
  {
   "cell_type": "code",
   "execution_count": 1,
   "id": "43bc602b-9b63-4884-a0e3-517c305f0d94",
   "metadata": {},
   "outputs": [
    {
     "data": {
      "text/plain": [
       "[756, 912, 644, 54, 658]"
      ]
     },
     "execution_count": 1,
     "metadata": {},
     "output_type": "execute_result"
    }
   ],
   "source": [
    "import pyspark \n",
    "sc = pyspark.SparkContext('local[*]')\n",
    "# do something to prove it works\n",
    "rdd = sc.parallelize(range(1000))\n",
    "rdd.takeSample(False, 5)"
   ]
  },
  {
   "cell_type": "code",
   "execution_count": 2,
   "id": "f385f313-0507-4293-8f5e-e006535c328b",
   "metadata": {},
   "outputs": [],
   "source": [
    "from pyspark.sql.functions import sum, col, when, split, concat_ws, broadcast,lit, udf, desc, percent_rank, regexp_replace\n",
    "from pyspark.sql.types import FloatType\n",
    "from pyspark.sql.window import Window\n",
    "from pyspark.sql import SparkSession\n",
    "\n",
    "# Create a SparkSession\n",
    "spark = SparkSession.builder \\\n",
    "    .appName(\"Read CSV Example\") \\\n",
    "    .getOrCreate()"
   ]
  },
  {
   "cell_type": "markdown",
   "id": "e8888c93-e4d5-41cf-8436-5426ae8ef9a0",
   "metadata": {},
   "source": [
    "# 5.\tRead three datasets by Spark and print counts for each."
   ]
  },
  {
   "cell_type": "code",
   "execution_count": 3,
   "id": "f2e6631f-988b-4221-96b2-b1bbb6098e38",
   "metadata": {},
   "outputs": [
    {
     "data": {
      "text/plain": [
       "500000"
      ]
     },
     "execution_count": 3,
     "metadata": {},
     "output_type": "execute_result"
    }
   ],
   "source": [
    "# accounts\n",
    "df_accounts = spark.read \\\n",
    "    .option(\"header\", \"true\")  \\\n",
    "    .option(\"inferSchema\", \"true\")  \\\n",
    "    .csv(\"accounts.csv\", sep=\";\")\n",
    "\n",
    "df_accounts.count()"
   ]
  },
  {
   "cell_type": "code",
   "execution_count": 4,
   "id": "c7a623cf-6c10-4915-8799-31b86e78c016",
   "metadata": {},
   "outputs": [
    {
     "data": {
      "text/plain": [
       "121"
      ]
     },
     "execution_count": 4,
     "metadata": {},
     "output_type": "execute_result"
    }
   ],
   "source": [
    "# country_abbreviation\n",
    "df_country_abbreviation = spark.read \\\n",
    "    .option(\"header\", \"true\") \\\n",
    "    .option(\"inferSchema\", \"true\") \\\n",
    "    .csv(\"country_abbreviation.csv\", sep=\";\") \n",
    "\n",
    "df_country_abbreviation.count()"
   ]
  },
  {
   "cell_type": "code",
   "execution_count": 6,
   "id": "ea005a6a-9f0b-4d11-948e-0e539acac20a",
   "metadata": {},
   "outputs": [
    {
     "data": {
      "text/plain": [
       "5000000"
      ]
     },
     "execution_count": 6,
     "metadata": {},
     "output_type": "execute_result"
    }
   ],
   "source": [
    "# transactions\n",
    "df_transactions = spark.read \\\n",
    "    .option(\"header\", \"true\") \\\n",
    "    .option(\"inferSchema\", \"true\") \\\n",
    "    .csv(\"transactions.csv\", sep=\";\")\n",
    "\n",
    "df_transactions.count()"
   ]
  },
  {
   "cell_type": "code",
   "execution_count": 18,
   "id": "82338f9a-e969-41b8-b851-cf6a3e7eb691",
   "metadata": {},
   "outputs": [],
   "source": [
    "df_accounts.createOrReplaceTempView(\"accounts\")\n",
    "\n",
    "df_transactions.createOrReplaceTempView(\"transactions\")\n",
    "\n",
    "df_country_abbreviation.createOrReplaceTempView(\"country_abbreviation\")"
   ]
  },
  {
   "cell_type": "markdown",
   "id": "22a3760e-0e6b-4906-a119-7bd5a2611955",
   "metadata": {},
   "source": [
    " •\tCalculate how many accounts of each type there are using Spark SQL. The return type is a dataframe [account_type: string, account_type_count: int] "
   ]
  },
  {
   "cell_type": "code",
   "execution_count": 19,
   "id": "7a72a51d-e581-4ccf-8831-5a629d6da077",
   "metadata": {},
   "outputs": [
    {
     "name": "stdout",
     "output_type": "stream",
     "text": [
      "+------------+------------------+\n",
      "|account_type|account_type_count|\n",
      "+------------+------------------+\n",
      "|    Personal|           1667072|\n",
      "|Professional|           1667358|\n",
      "|    Business|           1665570|\n",
      "+------------+------------------+\n",
      "\n"
     ]
    }
   ],
   "source": [
    "df_accounts_result = spark.sql(\"\"\"\n",
    "    SELECT t.account_type AS account_type,\n",
    "           COUNT(t.account_type) AS account_type_count \n",
    "    FROM transactions t\n",
    "    LEFT JOIN\n",
    "         accounts a\n",
    "    ON\n",
    "        a.id = t.id\n",
    "    GROUP BY t.account_type\n",
    "    \"\"\")\n",
    "\n",
    "df_accounts_result.show()"
   ]
  },
  {
   "cell_type": "raw",
   "id": "7a559bbf-7a63-4b72-8e87-5a6d463a0a0f",
   "metadata": {},
   "source": [
    " •\tCalculate only the balance and the latest date for each account from transactions.csv. To calculate the balance, summarize all the transactions for  \n",
    "    each account. The return type is a dataframe [account_id: string, balance: string, latest_date: date]."
   ]
  },
  {
   "cell_type": "code",
   "execution_count": 20,
   "id": "dd939ac2-9554-4aba-beba-1031afc26e9b",
   "metadata": {},
   "outputs": [
    {
     "name": "stdout",
     "output_type": "stream",
     "text": [
      "+----------+------------------+-----------+\n",
      "|account_id|           balance|latest_date|\n",
      "+----------+------------------+-----------+\n",
      "|    482333|          27174.07| 2020-07-17|\n",
      "|    222048|          48004.81| 2020-07-20|\n",
      "|    328078|          36948.25| 2020-02-01|\n",
      "|    192401|          36736.98| 2020-01-30|\n",
      "|    273916| 47475.37999999999| 2021-05-30|\n",
      "|    485103|          62198.93| 2021-05-22|\n",
      "|    300282|55103.619999999995| 2021-05-01|\n",
      "|     20683|          56448.72| 2021-10-27|\n",
      "|     15846| 58671.90999999999| 2020-12-23|\n",
      "|    446783| 98085.51000000001| 2021-12-11|\n",
      "|     92182|           42335.3| 2020-08-08|\n",
      "|    477485|          22114.03| 2020-05-23|\n",
      "|    171142|40428.899999999994| 2021-04-07|\n",
      "|    317762|          40025.55| 2021-12-02|\n",
      "|     65478|           57941.9| 2021-10-06|\n",
      "|    306768|          26566.93| 2019-12-19|\n",
      "|    380411|          43652.94| 2020-06-02|\n",
      "|    304681|          37827.69| 2021-03-26|\n",
      "|    475638|           44509.1| 2021-11-23|\n",
      "|     97413|          39611.24| 2018-05-01|\n",
      "+----------+------------------+-----------+\n",
      "only showing top 20 rows\n",
      "\n"
     ]
    }
   ],
   "source": [
    "df_accounts_last_date_result = spark.sql(\"\"\"\n",
    "    SELECT id AS account_id,\n",
    "           CAST(SUM(amount) AS STRING) AS balance,\n",
    "           MAX(transaction_date) as latest_date\n",
    "    FROM transactions \n",
    "    GROUP BY id\n",
    "    \"\"\")\n",
    "\n",
    "df_accounts_last_date_result.show()"
   ]
  },
  {
   "cell_type": "markdown",
   "id": "0c1746f1-0208-45fb-8723-8d52454cf9e5",
   "metadata": {},
   "source": [
    "2.\tWrite a function using Spark Python or Spark Scala API to calculate total earnings (sum of transactions above 0) for each user from Switzerland by year as a pivot table. The result dataframe should contain user full names as one field split by whitespace, years, and earning values. "
   ]
  },
  {
   "cell_type": "code",
   "execution_count": 21,
   "id": "287b4b23-11f0-4928-925d-5c736bf07451",
   "metadata": {},
   "outputs": [
    {
     "name": "stdout",
     "output_type": "stream",
     "text": [
      "+-----------------+------------------+------------------+-------+--------+-------+-------+------------------+--------+-------+-------+-------+\n",
      "|        full_name|              2011|              2012|   2013|    2014|   2015|   2016|              2017|    2018|   2019|   2020|   2021|\n",
      "+-----------------+------------------+------------------+-------+--------+-------+-------+------------------+--------+-------+-------+-------+\n",
      "|      Luke Carter|              null|1585.4099999999999|  93.69|    null|   null|   null|           7029.37| 8340.16|   null|   null|   null|\n",
      "|       Myra Owens|           7290.28|              null|   null| 7508.42|   null|   null|           19543.1|    null|   null|   null|   null|\n",
      "|    Darcy Edwards|              null|              null|   null|    null|   null|   null|           7892.65| 8538.91|2252.85|   null|   null|\n",
      "|    Honey Barrett|           8382.42|              null|   null|    null|   null| 4415.3|              null|    null|   null|   null|   null|\n",
      "|     Dexter Mason|11351.220000000001|              null|   null|    null|   null|   null|            3721.5|    null|   null|   null|   null|\n",
      "|    Lenny Spencer|           2050.35|              null|   null|    null|   null| 509.08|16116.580000000002|    null|8693.52| 923.65|8797.15|\n",
      "|       Carl Craig|              null|           7126.05|   null|    null|   null|   null|              null|    null|9610.96| 920.41|   null|\n",
      "|   Natalie Nelson|              null|              null|   null|    null|1664.57| 7067.5|           7446.06|14378.04|   null|   null|   null|\n",
      "|  Arnold Harrison|              null|          13277.13|   null|    null|   null|   null|              null|    null|   null|   null|   null|\n",
      "|     Camila Adams|              null|              null|5689.23|    null|   null|   null|              null|    null|   null|   null|   null|\n",
      "|  Evelyn Ferguson|              null|              null|   null|    null|   null|   null|           1237.55| 5283.99|   null|9577.06|   null|\n",
      "| Kristian Stevens|              null|           6058.51|6498.24|    null|   null|   null|              null|    null|   null|   null|   null|\n",
      "|     Lucia Watson|              null|           2173.26|   null|10047.25|   null|   null|              null|    null|4500.61|   null|   null|\n",
      "|     Jessica West|              null|           8673.72|   null|    null|   null|   null|              null|    null|   null|4797.03|1294.49|\n",
      "|     Arnold Kelly|              null|              null|   null|    null|7327.47|4848.64|              null|    null|   null|   null|   null|\n",
      "|   Adelaide Dixon|              null|              null|   null|    null|   null|   null|           2176.15|    null|   null|   null|   null|\n",
      "|     Marcus Baker|              null|              null|6955.29| 2341.43|4353.16|   null|              null|    null|   null|3337.62|   null|\n",
      "|Roland Richardson|            181.15|              null|6847.67|    null|   null|   null|              null|    null|   null|   null|3686.45|\n",
      "|       Ellia Hall|           8883.45|              null|   null|    null|   null|   null|              null|    null|   null|   null|   null|\n",
      "|    Spike Elliott|              null|              null|6920.73| 1100.58|   null|   null|              null|    null|   null|   null|   null|\n",
      "+-----------------+------------------+------------------+-------+--------+-------+-------+------------------+--------+-------+-------+-------+\n",
      "only showing top 20 rows\n",
      "\n"
     ]
    }
   ],
   "source": [
    "\n",
    "def get_total_earnings():\n",
    "    df_transactions_joined = df_transactions \\\n",
    "        .join(df_country_abbreviation,\n",
    "             df_transactions.country == df_country_abbreviation.abbreviation,\n",
    "             \"left\") \\\n",
    "        .join(df_accounts.drop(\"country\"), # we delete the country field to remove the ambiguity error.\n",
    "             df_transactions.id == df_accounts.id,\n",
    "             \"left\")\n",
    "\n",
    "    df_filtered_1 = df_transactions_joined.filter((col(\"country\") == \"CH\") & (col(\"amount\") > 0))\n",
    "    df_filtered_2 = df_filtered_1.withColumn(\"year\", split(col(\"transaction_date\"), \"-\")[0].cast(\"int\"))\n",
    "    df_filtered_3 = df_filtered_2.withColumn(\"full_name\", concat_ws(\" \", df_filtered_2.first_name, df_filtered_2.last_name))\n",
    "    df_result = df_filtered_3.groupBy(\"full_name\").pivot(\"year\").sum(\"amount\")\n",
    "    df_result.show()\n",
    "\n",
    "\n",
    "get_total_earnings()"
   ]
  },
  {
   "cell_type": "code",
   "execution_count": null,
   "id": "e34b37bb-791c-4a6a-8bea-6158a91a63f6",
   "metadata": {},
   "outputs": [],
   "source": []
  }
 ],
 "metadata": {
  "kernelspec": {
   "display_name": "Python 3 (ipykernel)",
   "language": "python",
   "name": "python3"
  },
  "language_info": {
   "codemirror_mode": {
    "name": "ipython",
    "version": 3
   },
   "file_extension": ".py",
   "mimetype": "text/x-python",
   "name": "python",
   "nbconvert_exporter": "python",
   "pygments_lexer": "ipython3",
   "version": "3.11.5"
  }
 },
 "nbformat": 4,
 "nbformat_minor": 5
}
